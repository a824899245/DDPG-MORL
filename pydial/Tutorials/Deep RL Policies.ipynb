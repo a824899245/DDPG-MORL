{
 "cells": [
  {
   "cell_type": "markdown",
   "metadata": {},
   "source": [
    "# Quick description of how to use the deep RL policies in PyDial\n",
    "\n",
    "Note that this text is not in the quality of a full tutorial nor is it meant to be. Its purpose is merely to give guidance on how to use the deep RL policies which are part of the new PyDial release.\n"
   ]
  },
  {
   "cell_type": "markdown",
   "metadata": {},
   "source": [
    "## Running the algorithms with current domains"
   ]
  },
  {
   "cell_type": "markdown",
   "metadata": {},
   "source": [
    "For the quick start with deepRL algorithms we suggests looking at the benchmarking paper:\n",
    "\n",
    "https://arxiv.org/abs/1711.11023\n",
    "\n",
    "and following the guide at:\n",
    "\n",
    "http://www.camdial.org/pydial/benchmarks/\n",
    "\n",
    "so that you can reproduce the results. "
   ]
  },
  {
   "cell_type": "markdown",
   "metadata": {},
   "source": [
    "## Tests with the new domain"
   ]
  },
  {
   "cell_type": "markdown",
   "metadata": {},
   "source": [
    "With a high probability you will have to make changes to the model when you will try to apply it to the new domain.\n",
    "Neural network models are highly susceptible to the changes in architecture and training hyperparameters. That is why,\n",
    "we added also a script that can help with finding right parameter set. The script is at:"
   ]
  },
  {
   "cell_type": "code",
   "execution_count": null,
   "metadata": {
    "collapsed": false
   },
   "outputs": [],
   "source": [
    "cd scripts/gridengine/paramsearch/runScript.py"
   ]
  },
  {
   "cell_type": "markdown",
   "metadata": {},
   "source": [
    "The runScript.py is a wrapper over the repo. It enables to quickly run all policy models with different set-up of parameters. Inside the script you can specify the range of tested paramateres, number of training or testing dialogues, schedule of exploration and many other, model-specific hyperparameters.\n",
    "\n",
    "The most influential parameters that are shared across all architectures are discussed below:\n",
    "\n",
    "- learning_rate - all models are using currently ADAM optimizer however starting value of learning rate can heavily influence the results\n",
    "- capacity_vary - number of dialogues that is stored in the buffer, wrong values can lead to overfitting,\n",
    "- epsilon_s_e_vary - annealing of the epsilon-greedy policy, too small value at the start of the training leads to overfitting,\n",
    "- h1_size and h2_size - sizes of hidden layers that needs to be adapted to given domain\n",
    "\n",
    "Importance sampling mechanism for A2C and ENAC is implemented however is highly unstable.\n",
    "To turn it on you have set importance_sampling parameter to True.\n",
    "\n",
    "To run training just execute:"
   ]
  },
  {
   "cell_type": "code",
   "execution_count": null,
   "metadata": {
    "collapsed": true
   },
   "outputs": [],
   "source": [
    "python runScript.py"
   ]
  },
  {
   "cell_type": "markdown",
   "metadata": {},
   "source": [
    "and then to test:"
   ]
  },
  {
   "cell_type": "code",
   "execution_count": null,
   "metadata": {
    "collapsed": true
   },
   "outputs": [],
   "source": [
    "python runScript.py --test"
   ]
  },
  {
   "cell_type": "markdown",
   "metadata": {},
   "source": [
    "Results can be quickly then parsed by:"
   ]
  },
  {
   "cell_type": "code",
   "execution_count": null,
   "metadata": {
    "collapsed": true
   },
   "outputs": [],
   "source": [
    "python parseResults_all.py gRun tra_ no_of_runs .log no_of_models"
   ]
  }
 ],
 "metadata": {
  "kernelspec": {
   "display_name": "Python 2",
   "language": "python",
   "name": "python2"
  },
  "language_info": {
   "codemirror_mode": {
    "name": "ipython",
    "version": 2
   },
   "file_extension": ".py",
   "mimetype": "text/x-python",
   "name": "python",
   "nbconvert_exporter": "python",
   "pygments_lexer": "ipython2",
   "version": "2.7.12"
  }
 },
 "nbformat": 4,
 "nbformat_minor": 1
}
