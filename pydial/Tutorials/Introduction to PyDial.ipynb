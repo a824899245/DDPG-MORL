{
 "cells": [
  {
   "cell_type": "markdown",
   "metadata": {},
   "source": [
    "# Introduction to PyDial\n"
   ]
  },
  {
   "cell_type": "markdown",
   "metadata": {},
   "source": [
    "In this short tutorial you will install and explore the most important parts of PyDial so that you can start using and extending the existing architecture."
   ]
  },
  {
   "cell_type": "markdown",
   "metadata": {},
   "source": [
    "## Content:\n",
    "* [Installation](#first-bullet)\n",
    "* [Interacting with the system](#second-bullet)\n",
    "* [Training a policy](#third-bullet)\n",
    "    * [Learning](#5-bullet)\n",
    "    * [Visualising the results](#6-bullet)\n",
    "    * [Configuration file](#4-bullet)\n",
    "    * [More detailed configuration](#7-bullet)"
   ]
  },
  {
   "cell_type": "markdown",
   "metadata": {},
   "source": [
    "## Installation <a class=\"anchor\" id=\"first-bullet\"></a>\n"
   ]
  },
  {
   "cell_type": "markdown",
   "metadata": {},
   "source": [
    "Firstly, install the repository on your disk and cd to it:"
   ]
  },
  {
   "cell_type": "code",
   "execution_count": null,
   "metadata": {
    "collapsed": true
   },
   "outputs": [],
   "source": [
    "git clone https://bitbucket.org/dialoguesystems/pydial.git\n",
    "cd cued-pydial"
   ]
  },
  {
   "cell_type": "markdown",
   "metadata": {},
   "source": [
    "Now, ensure that you use the requirements.txt file to install the appropriate dependencies via pip. You can install\n",
    "pip using easy_install. It is suggested that all packages are installed in your local directory by including the --user option:"
   ]
  },
  {
   "cell_type": "code",
   "execution_count": null,
   "metadata": {
    "collapsed": true
   },
   "outputs": [],
   "source": [
    "sudo easy_install pip\n",
    "pip install --user -r requirements.txt"
   ]
  },
  {
   "cell_type": "markdown",
   "metadata": {},
   "source": [
    "Note: PyDial doesn't depend on many repositories. Nevertheless, it is suggested that the repo and its dependencies are\n",
    "installed in a virtual environment (see http://docs.python-guide.org/en/latest/dev/virtualenvs/)."
   ]
  },
  {
   "cell_type": "markdown",
   "metadata": {},
   "source": [
    "## Interacting with the system <a class=\"anchor\" id=\"second-bullet\"></a>"
   ]
  },
  {
   "cell_type": "markdown",
   "metadata": {},
   "source": [
    "Let's start by exploring the basic PyDial system using the pydial.py script. This script is a command-line driven wrapper\n",
    "that enables you to chat, train and test architectures, and plot performance data in PyDial. \n",
    "\n",
    "Firstly, change the permission for the script pydial.py to make it executable and add a symbolic link to it (eg. pydial) \n",
    "from your local bin directory so you can run the script from the terminal."
   ]
  },
  {
   "cell_type": "code",
   "execution_count": null,
   "metadata": {
    "collapsed": false
   },
   "outputs": [],
   "source": [
    "chmod 700 pydial.py\n",
    "ln -s /path/to/repository/cued-pydial/pydial.py /usr/local/bin/pydial"
   ]
  },
  {
   "cell_type": "markdown",
   "metadata": {},
   "source": [
    "To have a chat session run:"
   ]
  },
  {
   "cell_type": "code",
   "execution_count": null,
   "metadata": {
    "collapsed": true
   },
   "outputs": [],
   "source": [
    "pydial chat config/Tut-hdc-CamInfo.cfg"
   ]
  },
  {
   "cell_type": "markdown",
   "metadata": {},
   "source": [
    "where the configuration file specifies all the parameters needed to run the system. Now you can get to know your favourite restaurant in Cambridge or book a room in some hotel. An example of dialogue is shown below:"
   ]
  },
  {
   "cell_type": "code",
   "execution_count": null,
   "metadata": {
    "collapsed": true
   },
   "outputs": [],
   "source": [
    "> pydial chat config/Tut-hdc-CamInfo.cfg\n",
    "*** Chatting with policies ['CamRestaurants', 'CamHotels']: ***\n",
    "Prompt > Hello, welcome to the Cambridge Multi- Domain dialogue system. How may I help you?.\n",
    "User   > I want a cheap hotel in the centre of town.\n",
    "Prompt > I am sorry but there is no place, is a hotel, in the cheap price range and in the area of centre.\n",
    "User   > Ok, how about a moderately priced hotel?\n",
    "Prompt > Cityroomz is a nice place, it is in the moderate price range , it is a hotel and it is in the centre of town.\n",
    "User   > What is the phone number?\n",
    "Prompt > Cityroomz is a nice place Their phone number is 01223304050.\n",
    "User   > I would also like a cheap chinese restaurant in the centre.\n",
    "Prompt > Golden house is a nice place, it is in the centre of town, it is in the cheap price range and it serves chinese food.\n",
    "User   > What is the address?\n",
    "Prompt > Golden house is a nice place. Their address is 12 Lensfield Road, City Centre.\n",
    "User   > Goodbye.\n",
    "Prompt > Thank you, goodbye.\n"
   ]
  },
  {
   "cell_type": "markdown",
   "metadata": {},
   "source": [
    "The conversation is divided into turns. Each turn consists of a system act which is converted to a prompt by the generation module, followed by a user response which is converted to a user dialogue act by the semantic decoder.\n",
    "A more detailed trace of the dialogue is stored in the log file  _tutoriallogs/Tut-hdc-CamInfo-00.0.chat.log.  The first few lines of this log file are shown below (truncated and reformated slightly to fit on a page):"
   ]
  },
  {
   "cell_type": "code",
   "execution_count": null,
   "metadata": {
    "collapsed": true
   },
   "outputs": [],
   "source": [
    " FlatOntologyManager.py <_set_ontology>126 :  Loading ontology: ontology/ontologies/CamRestaurants-rules.json\n",
    "       FlatOntologyManager.py <_set_db>141 :  Loading database: ontology/ontologies/CamRestaurants-dbase.db\n",
    " FlatOntologyManager.py <_set_ontology>126 :  Loading ontology: ontology/ontologies/CamHotels-rules.json\n",
    "       FlatOntologyManager.py <_set_db>141 :  Loading database: ontology/ontologies/CamHotels-dbase.db\n",
    "                  pydial <chat_command>729 :  *** Chatting with policies ['CamRestaurants', 'CamHotels']: ***\n",
    "               Agent.py <_hand_control>430 :  Launching Dialogue Manager for domain: topicmanager\n",
    "                  Agent.py <start_call>178 :  >> NEW DIALOGUE SESSION. Number: 1\n",
    "               Agent.py <_hand_control>447 :  Domain topicmanager is both already running and has control\n",
    "                 Agent.py <_print_turn>554 :  ** Turn 0 **\n",
    "              Agent.py <_print_sys_act>569 :  | Sys > hello()\n",
    "                Agent.py <_agents_semo>653 :  Domain with CONTROL: topicmanager\n",
    "                 Agent.py <_print_turn>554 :  ** Turn 1 **\n",
    "    RuleTopicTrackers.py <infer_domain>151 :  CamHotels keyword found in: I want a cheap hotel in the centre of town.\n",
    "         TopicTracking.py <track_topic>136 :  TopicTracker switched domains. From topicmanager to CamHotels\n",
    "         TopicTracking.py <track_topic>142 :  After user_act - domain is now: CamHotels\n",
    "               Agent.py <_hand_control>430 :  Launching Dialogue Manager for domain: CamHotels\n",
    "                       SemI.py <decode>195 :  [(inform(area=centre)|inform(kind=hotel)|inform(pricerange=cheap)|\n",
    "                                              inform(type=placetostay)', 1.0)]\n",
    "     SemI.py <_add_context_to_user_act>254 :  Possibly adding context to user semi hyps: [(inform(area=centre)|inform(\n",
    "                                              kind=hotel)|inform(pricerange=cheap)|inform(type=placetostay)', 1.0)]\n",
    "ModSemBeliefTrack.p<update_belief_state>68 :  SemI   > [(inform(area=centre)|inform(kind=hotel)|\n",
    "                                              inform(pricerange=cheap)|inform(type=placetostay)', 1.0)]\n",
    "              Agent.py <_print_sys_act>569 :  | Sys > inform(name=none, kind='hotel',pricerange='cheap',area='centre')\n",
    "                Agent.py <_agents_semo>653 :  Domain with CONTROL: CamHotels\n",
    "                 Agent.py <_print_turn>554 :  ** Turn 2 **\n",
    "....\n"
   ]
  },
  {
   "cell_type": "markdown",
   "metadata": {},
   "source": [
    "## Training a policy <a class=\"anchor\" id=\"third-bullet\"></a>"
   ]
  },
  {
   "cell_type": "markdown",
   "metadata": {
    "collapsed": true
   },
   "source": [
    "The basic system demonstrated above uses very simple hand-crafted components and rule-based dialogue policies.\n",
    "PyDial.py provides basic functions for training and testing a policy and analysing the results."
   ]
  },
  {
   "cell_type": "markdown",
   "metadata": {},
   "source": [
    "### Learning <a class=\"anchor\" id=\"5-bullet\"></a>"
   ]
  },
  {
   "cell_type": "markdown",
   "metadata": {},
   "source": [
    "The dialogue may be seen as a control problem where given a distribution over possible belief states we need to take some action which determines what the system will do next. \n",
    "We can learn a good policy for making these decisions by defining a reward function and then using reinforcement learning to find a policy which maximises the total reward accumulated in each dialogue.\n",
    "One algorithm for doing this is GP-SARSA (for a detailed explanation see the Policy module tutorial)."
   ]
  },
  {
   "cell_type": "markdown",
   "metadata": {
    "collapsed": false,
    "scrolled": true
   },
   "source": [
    "Lets train a GP policy for the Cambridge Restaurants domain:"
   ]
  },
  {
   "cell_type": "code",
   "execution_count": null,
   "metadata": {
    "collapsed": false,
    "scrolled": true
   },
   "outputs": [],
   "source": [
    "pydial train config/Tut-gp-CamRestaurants.cfg"
   ]
  },
  {
   "cell_type": "markdown",
   "metadata": {},
   "source": [
    "This command will start up the PyDial simulator and GP trainer according to the parameters\n",
    "set in the config file Tut-gp-CamRestaurants.cfg [for more details on config files see below](#4-bullet).\n",
    "In this case, the config is set to train the policy in 5 batches of 100 dialogs per batch at zero error rate.\n",
    "Each batch is tested (with exploration turned off) before moving to the next batch.\n",
    "Depending on the speed of your computer, this should take only a few minutes.\n",
    "When it has finished, inspect the directory _tutorialpolicies, it will contain 5 pairs of files, one for each batch.\n",
    "Each pair contains a dictionary of training points (.dct) and a set of parameters (.prm).\n",
    "The filenames include the error rate that the policy was trained on and the batch iteration number.\n",
    "\n",
    "Most of the parameters set in the [exec_config] section of the config file can be overwritten on the command line.\n",
    "For example, the following will train another GP policy but this time with a 10% simulated error rate:\n"
   ]
  },
  {
   "cell_type": "code",
   "execution_count": null,
   "metadata": {
    "collapsed": true
   },
   "outputs": [],
   "source": [
    "pydial train config/Tut-gp-CamRestaurants.cfg --trainerrorrate=10"
   ]
  },
  {
   "cell_type": "markdown",
   "metadata": {},
   "source": [
    "You could also extend a previous training run by adding, say another 2 batches:\n"
   ]
  },
  {
   "cell_type": "code",
   "execution_count": null,
   "metadata": {
    "collapsed": true
   },
   "outputs": [],
   "source": [
    "pydial train config/Tut-gp-CamRestaurants.cfg --trainsourceiteration=5 --numtrainbatches=2"
   ]
  },
  {
   "cell_type": "markdown",
   "metadata": {},
   "source": [
    "where the --trainsourceiteration option sets the batch to use as the input for the new training run.\n"
   ]
  },
  {
   "cell_type": "markdown",
   "metadata": {},
   "source": [
    "### Visualising the results <a class=\"anchor\" id=\"6-bullet\"></a>"
   ]
  },
  {
   "cell_type": "markdown",
   "metadata": {
    "collapsed": true
   },
   "source": [
    "After training, it is useful to see how the reward function and success rate increases as a function of the number of training dialogues.\n",
    "The pydial plot command will scan log files and produce a composite plot for each policy.\n",
    "In the case of log files produced by a training run, it will plot the reward and success rate as a function of the total training dialogues:\n"
   ]
  },
  {
   "cell_type": "code",
   "execution_count": null,
   "metadata": {
    "collapsed": false
   },
   "outputs": [],
   "source": [
    "pydial plot _tutoriallogs/*train*"
   ]
  },
  {
   "cell_type": "markdown",
   "metadata": {},
   "source": [
    "which should produce a plot something like the following:"
   ]
  },
  {
   "cell_type": "markdown",
   "metadata": {},
   "source": [
    "<img src=\"tutorial_train_plot.png\" width=\"600\">"
   ]
  },
  {
   "cell_type": "markdown",
   "metadata": {},
   "source": [
    "The GP framework enables an effective policy to be trained with relatively few dialogs.\n",
    "Already after 500 dialogues, the 0% error rate policy achieved 85% success rate using the default kernel parameters."
   ]
  },
  {
   "cell_type": "markdown",
   "metadata": {},
   "source": [
    "All policy information is stored in poldir. Since pydial overrides some config\n",
    "params, the actual configs used for each run are recorded in cfgdir."
   ]
  },
  {
   "cell_type": "markdown",
   "metadata": {},
   "source": [
    "Once trained, a policy can be explicitly tested using the pydial test command.\n",
    "This runs the same test as used for testing batches during training, however, running separate tests allows performance to be tested with different parameters.  For example:"
   ]
  },
  {
   "cell_type": "code",
   "execution_count": null,
   "metadata": {
    "collapsed": false
   },
   "outputs": [],
   "source": [
    "pydial test config/Tut-gp-CamRestaurants.cfg 5 --trainerrorrate=0 --testerrorrate='(0,50,10)'\n",
    "pydial test config/Tut-gp-CamRestaurants.cfg 5 --trainerrorrate=10 --testerrorrate='(0,50,10)'"
   ]
  },
  {
   "cell_type": "markdown",
   "metadata": {},
   "source": [
    "will test the 5th iteration of the policy trained at 0% errors over the range of error rates: 0%, 10%, 20%, ... ,50%\n",
    "and then do the same for the policy trained at 10% errors.\n",
    "The results can again be viewed by the plot commmand but this time picking up the log files containing eval rather than train:"
   ]
  },
  {
   "cell_type": "code",
   "execution_count": null,
   "metadata": {
    "collapsed": false
   },
   "outputs": [],
   "source": [
    "pydial plot _tutoriallogs/*eval* --printtab"
   ]
  },
  {
   "cell_type": "markdown",
   "metadata": {},
   "source": [
    "which should produce a plot something like the following:"
   ]
  },
  {
   "cell_type": "markdown",
   "metadata": {},
   "source": [
    "<img src=\"tutorial_eval_plot.png\" width=\"600\">"
   ]
  },
  {
   "cell_type": "markdown",
   "metadata": {},
   "source": [
    "in this case, the option to print a table of results is also included and should result the following table as well as the graph:"
   ]
  },
  {
   "cell_type": "code",
   "execution_count": null,
   "metadata": {
    "collapsed": false
   },
   "outputs": [],
   "source": [
    "Tut: Performance vs Error Rate\n",
    "Reward                          0           10           20           30           40           50\n",
    "Tut-gp-CamRestaurants-00.5 :  10.0 +- 0.9   9.8 +- 1.0   7.7 +- 1.1   4.1 +- 1.2   4.0 +- 1.2  -0.1 +- 1.2\n",
    "Tut-gp-CamRestaurants-10.5 :   9.6 +- 1.0   8.2 +- 1.1   6.1 +- 1.2   4.1 +- 1.2   1.3 +- 1.1  -0.9 +- 1.1\n",
    "\n",
    "Success                         0           10           20           30           40           50\n",
    "Tut-gp-CamRestaurants-00.5 :  85.7 +- 4.0  84.7 +- 4.1  76.3 +- 4.8  61.7 +- 5.5  59.7 +- 5.6  41.0 +- 5.6\n",
    "Tut-gp-CamRestaurants-10.5 :  82.0 +- 4.4  76.3 +- 4.8  66.7 +- 5.4  55.7 +- 5.6  41.7 +- 5.6  30.7 +- 5.2\n",
    "\n",
    "Turns                           0           10           20           30           40           50\n",
    "Tut-gp-CamRestaurants-00.5 :   7.1 +- 0.4   7.1 +- 0.4   7.6 +- 0.4   8.2 +- 0.4   8.0 +- 0.4   8.3 +- 0.4\n",
    "Tut-gp-CamRestaurants-10.5 :   6.8 +- 0.4   7.1 +- 0.3   7.2 +- 0.3   7.0 +- 0.3   7.1 +- 0.3   7.0 +- 0.3\n"
   ]
  },
  {
   "cell_type": "markdown",
   "metadata": {},
   "source": [
    "Note that the graph itself can be suppressed using the --noplot option, this is useful when running pydial without a graphic display."
   ]
  },
  {
   "cell_type": "markdown",
   "metadata": {},
   "source": [
    "### The Configuration File <a class=\"anchor\" id=\"4-bullet\"></a>\n",
    "\n",
    "As will be apparent, pydial.py relies  on the provision of a configuration file to set up the many differing options in the PyDial system\n",
    "In fact, virtually all uses of PyDial require a configuration file. \n",
    "This file is global (there is only ever one config file) and it follows the standard python config file format: i.e. one option=value per line, broken into sections headed by a section name in square brackets.\n",
    "The [GENERAL] section provides several key global variables:\n"
   ]
  },
  {
   "cell_type": "code",
   "execution_count": null,
   "metadata": {
    "collapsed": false
   },
   "outputs": [],
   "source": [
    "[GENERAL]\n",
    " singledomain = True                           # turn off multi-domain handling ...\n",
    " domains = CamRestaurants,CamHotels, ....      # or list of possible domains\n",
    " tracedialog = 0                               # set trace level to 0,1 or 2\n",
    " seed = 12345                                  # set to make simulation reproducible\n"
   ]
  },
  {
   "cell_type": "markdown",
   "metadata": {},
   "source": [
    "PyDial runs in either single or multi-domain mode.  In multi-domain mode, the option variable $\\verb|domains|$ provides a list of all possible domains.\n",
    "The $\\verb|tracedialog|$ variable sets the console trace level where 0=off, and 2=verbose.\n",
    "Tracing is distinct from logging, and its prime use is to control the display of dialogue turns in simulation mode.\n",
    "Logging provides a much more detailed output at 4 possible levels: error, warn, info, debug.  Logging to a file and to the screen is controlled independently.\n",
    "For example, in the following, the system will output in colour all logging levels to the screen (ie errors, warnings, info, and debug messages), but only output errors and warnings to the log file:\n"
   ]
  },
  {
   "cell_type": "code",
   "execution_count": null,
   "metadata": {
    "collapsed": true
   },
   "outputs": [],
   "source": [
    "[logging]\n",
    "usecolor = True\n",
    "screen_level = debug\n",
    "file_level = warn\n",
    "file = debug.log\n"
   ]
  },
  {
   "cell_type": "markdown",
   "metadata": {},
   "source": [
    "The operation of the pydial.py command line handler is controlled by a section labeled [exec_config].\n",
    "The various options are listed below with typical values, most of which have been introduced in the sections above.\n"
   ]
  },
  {
   "cell_type": "code",
   "execution_count": null,
   "metadata": {
    "collapsed": true
   },
   "outputs": [],
   "source": [
    "[exec_config]\n",
    "domain = CamRestaurants     # specific train/test domain\n",
    "policytype = gp             # type of policy to train/test\n",
    "configdir = cfgdir          # folder to store configs\n",
    "logfiledir = logdir         # folder to store logfiles\n",
    "numtrainbatches = 2         # num training batches (iterations)\n",
    "traindialogsperbatch = 10   # num dialogs per batch\n",
    "numbatchtestdialogs =  100  # num dialogs to eval each batch\n",
    "trainsourceiteration = 0    # iteration of source policy to update\n",
    "testiteration = 1           # policy iteration to test\n",
    "numtestdialogs =  100       # num dialogs per test\n",
    "trainerrorrate = 0          # train error rate in %\n",
    "testerrorrate  = 0          # test error rate in %\n",
    "testeverybatch = True       # enable batch testing"
   ]
  },
  {
   "cell_type": "markdown",
   "metadata": {},
   "source": [
    "Note that in actual config files, comments introduced by a # symbol are not allowed on the same line as an option variable but must instead be on a line of their own.\n",
    "\n",
    "For details of all of the many other configuration variables, see the relevant tutorials and the Configuration Variable Dictionary. The file OPTIONS.cfg will give an overview over all possible configuration options.\n"
   ]
  }
 ],
 "metadata": {
  "kernelspec": {
   "display_name": "Python 2",
   "language": "python",
   "name": "python2"
  },
  "language_info": {
   "codemirror_mode": {
    "name": "ipython",
    "version": 2
   },
   "file_extension": ".py",
   "mimetype": "text/x-python",
   "name": "python",
   "nbconvert_exporter": "python",
   "pygments_lexer": "ipython2",
   "version": "2.7.12"
  }
 },
 "nbformat": 4,
 "nbformat_minor": 0
}
