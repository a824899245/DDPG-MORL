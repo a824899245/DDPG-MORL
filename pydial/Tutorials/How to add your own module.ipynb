{
 "cells": [
  {
   "cell_type": "markdown",
   "metadata": {},
   "source": [
    "# How to add your own module"
   ]
  },
  {
   "cell_type": "markdown",
   "metadata": {},
   "source": [
    "One of the main aims of PyDial is to provide a common statistical dialogue system framework where people are able to integrate and evaluate their own models. Having this in mind, CUED-PyDial has been designed to offer clearly defined interfaces for the main modules. To understand this, we first have to look at PyDial's acchitecture."
   ]
  },
  {
   "cell_type": "markdown",
   "metadata": {
    "collapsed": true
   },
   "source": [
    "## The modular structure of PyDial\n",
    "\n",
    "PyDial is based on a modular architecture as presented in the following figure. Multi-domain capability is achieved using a topic tracker which identifies the topic of the input. Based on that, domain-specific instances of all downstream modules are used."
   ]
  },
  {
   "cell_type": "markdown",
   "metadata": {},
   "source": [
    "<img src=\"pydial.png\" alt=\"PyDial Architecture\" align=\"left\" style=\"width:600px\"/>"
   ]
  },
  {
   "cell_type": "markdown",
   "metadata": {},
   "source": [
    "## Creating new modules\n",
    "\n",
    "For easy integration of own modules, Pydial provides simple interface classes for the following modules:\n",
    "* Topic Tracking: topictracking.RuleTopicTrackers.TopicTrackerInterface\n",
    "* Semantic Belief Tracking (from words to belief state): semanticbelieftracking.SemanticBeliefTrackingManager.SemanticBeliefTracker\n",
    "* Semantic Decoding (from words to semantics): semi.SemI.SemI\n",
    "* Belief Tracking (from semantics to belief state): belieftracking.BeliefTracker.BeliefTracker\n",
    "* Policy: policy.Policy.Policy\n",
    "* Language Generation: semo.SemOManager.SemO\n",
    "* Evaluation: EvaluationManager.Evaluator"
   ]
  },
  {
   "cell_type": "markdown",
   "metadata": {},
   "source": [
    "Each of these modules is modelled in a similar way. As PyDial's main objective is to provide a multi-domain dialogue platform, a concept called manager is introduced. It handles the domain instances of each module using a dictionary-like structure.\n",
    "\n",
    "The domain-instances are organised using an abstract class containing all general behaviour and defining the interface to the component as shown in the following figure. By that, implementing own modules which are not already contained in PyDial is straightforward."
   ]
  },
  {
   "cell_type": "markdown",
   "metadata": {},
   "source": [
    "<img src=\"pydial_policy.png\" alt=\"PyDial Manager Example\" align=\"left\" width=\"700\"/>"
   ]
  },
  {
   "cell_type": "markdown",
   "metadata": {},
   "source": [
    "To implement your own module, have a look at the interface class and identify the methods you are supposed to override in a sub-class. To user your module, you have to specify the class in the config file. An example of modules which are loaded dynamically can be found in config/dynamically_load_modules.cfg."
   ]
  },
  {
   "cell_type": "markdown",
   "metadata": {},
   "source": [
    "## Example: Creating a new parrot policy\n",
    "\n",
    "In this example, a new policy class is created which simply takes the user action and returns it as a system action (just like a parrot always mirroring the user). To do this, the first step is to create a new class which inherits from policy.Policy.Policy:"
   ]
  },
  {
   "cell_type": "code",
   "execution_count": null,
   "metadata": {
    "collapsed": true
   },
   "outputs": [],
   "source": [
    "from policy import Policy\n",
    "\n",
    "class Parrot(Policy.Policy):\n",
    "    pass"
   ]
  },
  {
   "cell_type": "markdown",
   "metadata": {},
   "source": [
    "The most important method to inherit from Policy is nextAction(beliefState) which takes the belief state as input and produces the new system action. "
   ]
  },
  {
   "cell_type": "code",
   "execution_count": null,
   "metadata": {
    "collapsed": true
   },
   "outputs": [],
   "source": [
    "from policy import Policy\n",
    "\n",
    "class Parrot(Policy.Policy):\n",
    "    def nextAction(self, beliefstate):\n",
    "        pass"
   ]
  },
  {
   "cell_type": "markdown",
   "metadata": {},
   "source": [
    "To implement the parrot behaviour, we have to extract the last user input from the belief state, parse it a bit and then return it. In the beginning, we default to the hello() system act. The final class definition is as follows:"
   ]
  },
  {
   "cell_type": "code",
   "execution_count": null,
   "metadata": {
    "collapsed": true
   },
   "outputs": [],
   "source": [
    "from policy import Policy\n",
    "import re\n",
    "\n",
    "class Parrot(Policy.Policy):  \n",
    "    def nextAction(self, beliefstate):\n",
    "        userActs = beliefstate['userActs']\n",
    "        if userActs is not None:\n",
    "            systemAct = userActs[0][0]\n",
    "        else:\n",
    "            systemAct = \"hello()\"\n",
    "        \n",
    "        return systemAct    "
   ]
  },
  {
   "cell_type": "markdown",
   "metadata": {
    "collapsed": true
   },
   "source": [
    "To allow PyDial to use the new class, the module must reside in a package which is accessible by the python path. For this example, the file (let's use Parrot.py) can simply be stored in PyDial's root folder. To use it, the config file must be altered accordingly. The policy is defined within the [Policy_domain] section with the entry policytype. If we assume a dialogue in the CamRestaurants domain, the respective entry in the config file may look like this:"
   ]
  },
  {
   "cell_type": "code",
   "execution_count": null,
   "metadata": {
    "collapsed": true
   },
   "outputs": [],
   "source": [
    "[policy_CamRestaurants]\n",
    "belieftype = belieftracking.baseline.BaselineTracker\n",
    "policytype = Parrot.Parrot"
   ]
  },
  {
   "cell_type": "markdown",
   "metadata": {},
   "source": [
    "You can now test your policy using the chat. Note that even though the dialogue acts are mirrored the actual language response is different due to the way the language generator works."
   ]
  },
  {
   "cell_type": "markdown",
   "metadata": {
    "collapsed": true
   },
   "source": [
    "## Object format definitions\n",
    "\n",
    "CUED-PyDial uses the following structures to pass information among the modules:"
   ]
  },
  {
   "cell_type": "markdown",
   "metadata": {
    "collapsed": true
   },
   "source": [
    "### User Acts\n",
    "\n",
    "User acts are represented as strings contining of an intent and a list of slots or slot-value-pairs. Here is a list of system actions the system currently uses:\n",
    "\n",
    "* request(slot)\n",
    "* inform(slot=value)\n",
    "* confirm(slot=value)\n",
    "* confreq(slot=value,slot)\n",
    "* affirm()\n",
    "* hello()\n",
    "* negate()\n",
    "* repeat()\n",
    "* requalts()\n",
    "* bye()\n"
   ]
  },
  {
   "cell_type": "markdown",
   "metadata": {},
   "source": [
    "### Belief State"
   ]
  },
  {
   "cell_type": "markdown",
   "metadata": {},
   "source": [
    "The belief state is encapsulated in a DialogueState object. Inside, the belief of each domain is modelled using a dictionary with the following structure:"
   ]
  },
  {
   "cell_type": "code",
   "execution_count": null,
   "metadata": {
    "collapsed": true
   },
   "outputs": [],
   "source": [
    "{'beliefs': {u'informable_slot1': {'**NONE**': 1.0,\n",
    "                       u'value1': 0.0,\n",
    "                       u'value2': 0.0,\n",
    "                       ...  },\n",
    "             u'informable_slot2': {'**NONE**': 1.0,\n",
    "                       u'value1': 0.0,\n",
    "                       u'value2': 0.0,\n",
    "                       ...  },\n",
    "             ...\n",
    "             'discourseAct': {u'ack': 0.0,\n",
    "                              'bye': 0.0,\n",
    "                              u'hello': 0.0,\n",
    "                              u'none': 1.0,\n",
    "                              u'repeat': 0.0,\n",
    "                              u'silence': 0.0,\n",
    "                              u'thankyou': 0.0},\n",
    "             'method': {u'byalternatives': 0.0,\n",
    "                        u'byconstraints': 0.5,\n",
    "                        u'byname': 0.0,\n",
    "                        u'finished': 0.0,\n",
    "                        u'none': 0.5,\n",
    "                        u'restart': 0.0},\n",
    "             'requested': {u'infromable_slot1': 0.0,\n",
    "                           u'informable_slot2': 0.0,\n",
    "                           ...\n",
    "                           u'requestable_slot1': 0.0,\n",
    "                           u'requestable_slot2': 0.0,\n",
    "                           ...\n",
    "                           u'name': 0.0}},\n",
    " 'userActs': [('hypo1', 0.8),('hypo2',0.1),...]}"
   ]
  },
  {
   "cell_type": "markdown",
   "metadata": {},
   "source": [
    "The actual values for and with the informable_slot, the discourseAct, the method and the requested fields is directly extracted from the ontology file. While informable_slot, discourseAct and method all represent a probability distribution, ie, the numerical values of each field sum up to 1, this is different for the requested field. There, each of the numerical values may be in [0,1]."
   ]
  },
  {
   "cell_type": "markdown",
   "metadata": {},
   "source": [
    "### System Acts\n",
    "System acts are represented as strings contining of an intent and a list of slots or slot-value-pairs. Here is a list of system actions the system currently uses:\n",
    "* request(slot)\n",
    "* inform(slot=value, ...)\n",
    "* confirm(slot=value)\n",
    "* affirm()\n",
    "* hello()\n",
    "* negate()\n",
    "* repeat()\n",
    "* requalts()\n",
    "* bye()"
   ]
  }
 ],
 "metadata": {
  "kernelspec": {
   "display_name": "Python 2",
   "language": "python",
   "name": "python2"
  },
  "language_info": {
   "codemirror_mode": {
    "name": "ipython",
    "version": 2
   },
   "file_extension": ".py",
   "mimetype": "text/x-python",
   "name": "python",
   "nbconvert_exporter": "python",
   "pygments_lexer": "ipython2",
   "version": "2.7.12"
  }
 },
 "nbformat": 4,
 "nbformat_minor": 1
}
