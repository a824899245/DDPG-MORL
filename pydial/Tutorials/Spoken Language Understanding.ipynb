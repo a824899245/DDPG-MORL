{
 "cells": [
  {
   "cell_type": "markdown",
   "metadata": {
    "collapsed": true
   },
   "source": [
    "# Spoken Language Understanding (SLU)"
   ]
  },
  {
   "cell_type": "markdown",
   "metadata": {},
   "source": [
    "Semantic decoding system is responsible for decoding the meaning of utterances sent to the system. Often dialogue systems are deployed in a noisy setting, where background noise and diverse user populations can result in high speech recognition error rates. Thus, SLU systems operate on the top $k$ hypotheses output by the speech recogniser and this creates additional challenges for effective transformation of spoken utterances to dialogue acts. Let's look at the illustrative procedure:"
   ]
  },
  {
   "cell_type": "code",
   "execution_count": null,
   "metadata": {
    "collapsed": true
   },
   "outputs": [],
   "source": [
    "Dialogue turn: Is there maybe a cheap place in the north of town please?\n",
    "Dialogue act type: inform\n",
    "Semantic slots: price, area\n",
    "Semantic values: cheap, north\n",
    "Dialogue act: inform(price=cheap, area=north)"
   ]
  },
  {
   "cell_type": "markdown",
   "metadata": {},
   "source": [
    "As we can see, during the semantic decoding process we extract the information about dialogue act type,\n",
    "which encodes the system or the user intention in a dialogue turn, and semantic slots and values that further\n",
    "describe entities from the ontology that a dialogue turn refers to.\n",
    "\n",
    "We can tackle this problem from two perspectives - first one involves creation of list of grammar rules that parse user utterances. Second approach relies on statistically trained models where we train classifiers to directly label utterances based on training data."
   ]
  },
  {
   "cell_type": "markdown",
   "metadata": {},
   "source": [
    "## Content:\n",
    "* [Rule-based models](#first-bullet)\n",
    "* [Support Vector Machines](#6-bullet)\n",
    "* [PyDial/semi](#0-bullet)"
   ]
  },
  {
   "cell_type": "markdown",
   "metadata": {},
   "source": [
    "## Rule-based model: <a class=\"anchor\" id=\"first-bullet\"></a>\n",
    "\n",
    "A natural solution to the problem is to create a set of rules that transforms the utterance to the dialogue act based\n",
    "on the domain ontology. In the case of the general communication with the system, they might look like this:"
   ]
  },
  {
   "cell_type": "code",
   "execution_count": null,
   "metadata": {
    "collapsed": true
   },
   "outputs": [],
   "source": [
    "self.rHELLO = \"(\\b|^|\\ )(hi|hello)\\s\"\n",
    "self.rNEG =  \"(\\b|^|\\ )(no\\b|wrong|incorrect|error)|not\\ (true|correct|right)\\s\" \n",
    "self.rAFFIRM = \"(yes|ok\\b|OK\\b|okay|sure|(that('?s| is) )?right)\" \n",
    "self.rBYE = \"(\\b|^|\\ )(bye|goodbye|that'*s*\\ (is\\ )*all)(\\s|$|\\ )\"\n",
    "self.GREAT = \"(great|good|awesome)\"\n",
    "self.HELPFUL = \"(that((\\')?s|\\ (is|was))\\ (very\\ )?helpful)\""
   ]
  },
  {
   "cell_type": "markdown",
   "metadata": {},
   "source": [
    "More specific expressions depend completely on the domain that we are operating on.  A general framework for implementation rule-based system can be derived from `semi/RegexSemI.py`.\n",
    "You can find specific scripts with regular expression for every domain in folder `semi/RegexSemI_DOMAIN`. In order to test this model you can just run:"
   ]
  },
  {
   "cell_type": "code",
   "execution_count": null,
   "metadata": {
    "collapsed": true
   },
   "outputs": [],
   "source": [
    "pydial chat config/texthub.cfg"
   ]
  },
  {
   "cell_type": "markdown",
   "metadata": {},
   "source": [
    "To use it in your specific config file you have to change in `semi` section the variable `semitype` to `RegexSemI`, for example:"
   ]
  },
  {
   "cell_type": "code",
   "execution_count": null,
   "metadata": {
    "collapsed": true
   },
   "outputs": [],
   "source": [
    "[semi_CamRestaurants]\n",
    "semitype = RegexSemI"
   ]
  },
  {
   "cell_type": "markdown",
   "metadata": {},
   "source": [
    "## Support Vector Machines  <a class=\"anchor\" id=\"6-bullet\"></a>\n",
    "\n",
    "As it was mentioned previously, we can look at semantic decoding as a classification task in which\n",
    "we need to make predictions about the set of semantic concepts. However, this requires corpora data with labelled semantic concepts. Such an approach can easily handle $N$-best list of automatic speech recogniser hypotheses as in real conversational systems error rate of the top hypothesis is typically about 20-30% and thus robust system is needed.\n",
    "\n",
    "Classification model that is implemented in PyDial is support vector machines which map input into a high-dimensional feature space where data is linearly separable. It was shown that such statistical approach can substantially  improve  performance  both  in  terms  of  accuracy  and  overall  dialogue  reward."
   ]
  },
  {
   "cell_type": "markdown",
   "metadata": {},
   "source": [
    "To use this approach with your specific config file you have to change in `semi` section the variable `semitype` to `SVMSemI`, for example:"
   ]
  },
  {
   "cell_type": "code",
   "execution_count": null,
   "metadata": {
    "collapsed": true
   },
   "outputs": [],
   "source": [
    "[semi_CamRestaurants]\n",
    "semitype = SVMSemI"
   ]
  },
  {
   "cell_type": "markdown",
   "metadata": {},
   "source": [
    "You can test it with just chatting with the system through pydial:"
   ]
  },
  {
   "cell_type": "code",
   "execution_count": null,
   "metadata": {
    "collapsed": true
   },
   "outputs": [],
   "source": [
    "pydial chat config/texthub_svm.cfg"
   ]
  },
  {
   "cell_type": "markdown",
   "metadata": {},
   "source": [
    "## PyDial/semi <a class=\"anchor\" id=\"0-bullet\"></a>\n",
    "\n",
    "In PyDial there is a dedicated module for spoken language understanding under directory `semi` (semantic input). The interface class is `SemI` in `SemI.py` from which models explained above derive from. SVM model is implemented in `SVMSemI.py` while base class for rule-based model is in `RegexSemI.py` with specific instances for a given domain in `RegexSemI_DOMAIN.py`."
   ]
  }
 ],
 "metadata": {
  "kernelspec": {
   "display_name": "Python 2",
   "language": "python",
   "name": "python2"
  },
  "language_info": {
   "codemirror_mode": {
    "name": "ipython",
    "version": 2
   },
   "file_extension": ".py",
   "mimetype": "text/x-python",
   "name": "python",
   "nbconvert_exporter": "python",
   "pygments_lexer": "ipython2",
   "version": "2.7.12"
  }
 },
 "nbformat": 4,
 "nbformat_minor": 1
}
